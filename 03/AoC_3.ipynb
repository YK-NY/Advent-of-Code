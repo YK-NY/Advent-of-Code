{
 "cells": [
  {
   "cell_type": "markdown",
   "metadata": {},
   "source": [
    "### Advent of Code - Day 3\n",
    "Crossed Wires"
   ]
  },
  {
   "cell_type": "code",
   "execution_count": 173,
   "metadata": {},
   "outputs": [],
   "source": [
    "# Part -1"
   ]
  },
  {
   "cell_type": "code",
   "execution_count": 5,
   "metadata": {},
   "outputs": [],
   "source": [
    "# save x, y coordinates and the number of steps so far (or total distance)in a tuple"
   ]
  },
  {
   "cell_type": "code",
   "execution_count": 38,
   "metadata": {},
   "outputs": [],
   "source": [
    "\n",
    "def readInput():\n",
    "    wires= []\n",
    "    with open(\"Puzzle_3_input.txt\",'r') as f_:\n",
    "        for line in f_.readlines():\n",
    "            wires.append(line)\n",
    "            #for val in line[:-1].split(\",\"):\n",
    "            #   values.append(val)\n",
    "    wire_1 = wires[0]\n",
    "    wire_2 = wires[1]\n",
    "    return wire_1, wire_2\n",
    "    "
   ]
  },
  {
   "cell_type": "code",
   "execution_count": 39,
   "metadata": {},
   "outputs": [],
   "source": [
    "# get input data for both wires\n",
    "wire_1, wire_2 = readInput()"
   ]
  },
  {
   "cell_type": "code",
   "execution_count": 160,
   "metadata": {},
   "outputs": [],
   "source": [
    "# get coordinated for each step travelled by a wire and save in a dictionary\n",
    "def compute_coordinates(wire):\n",
    "    \n",
    "    # origin is (0,0)\n",
    "    x = 0\n",
    "    y = 0\n",
    "    steps = 0 \n",
    "    \n",
    "    # dictionary to hold all the coordinates traversed by a wire\n",
    "    # key is the coordinates (x,y)\n",
    "    grid_coordinates = {}\n",
    "    \n",
    "    # get x,y coordinates for each step\n",
    "    for step in wire.split(\",\"):\n",
    "        \n",
    "        dir_ = step[0]\n",
    "        len_ = int(step[1:])\n",
    "        \n",
    "        dx = dy = 0\n",
    "        if dir_ == 'L': \n",
    "            dx = -1 \n",
    "        elif dir_ == 'R': \n",
    "            dx = 1\n",
    "        if dir_ == 'U': \n",
    "            dy = 1 \n",
    "        elif dir_ == 'D': \n",
    "            dy = -1\n",
    "        \n",
    "        for s in range(0, len_):\n",
    "            x += dx\n",
    "            y += dy\n",
    "            steps += 1\n",
    "            \n",
    "            #if (x,y) not in grid_coordinates:\n",
    "            grid_coordinates.update({(x,y):steps})\n",
    "    \n",
    "    return grid_coordinates\n",
    "                        \n",
    "    "
   ]
  },
  {
   "cell_type": "code",
   "execution_count": 164,
   "metadata": {},
   "outputs": [],
   "source": [
    "w_1_coord = compute_coordinates(wire_1)\n",
    "w_2_coord = compute_coordinates(wire_2)"
   ]
  },
  {
   "cell_type": "code",
   "execution_count": 165,
   "metadata": {},
   "outputs": [],
   "source": [
    "def get_intersections(w1,w2):\n",
    "    #return list(set(w1.keys()) & set(w2.keys()))\n",
    "    intersections = set()\n",
    "    for coord in w1.keys():\n",
    "        if coord in w2.keys():\n",
    "            intersections.add(coord)\n",
    "    \n",
    "    return intersections\n",
    "        \n",
    "    "
   ]
  },
  {
   "cell_type": "code",
   "execution_count": 166,
   "metadata": {},
   "outputs": [],
   "source": [
    "intersection_coord = get_intersections(w_1_coord, w_2_coord)"
   ]
  },
  {
   "cell_type": "code",
   "execution_count": 171,
   "metadata": {},
   "outputs": [],
   "source": [
    "def manhattan_distance(intersections):\n",
    "    distance = []\n",
    "    for coord in intersections:\n",
    "        distance.append(abs(coord[0]) + abs(coord[1]))\n",
    "        \n",
    "    #print(distance)\n",
    "        \n",
    "    return min(distance)"
   ]
  },
  {
   "cell_type": "code",
   "execution_count": 172,
   "metadata": {},
   "outputs": [],
   "source": [
    "shortest_dist = manhattan_distance(intersection_coord)"
   ]
  },
  {
   "cell_type": "code",
   "execution_count": 170,
   "metadata": {},
   "outputs": [
    {
     "data": {
      "text/plain": [
       "375"
      ]
     },
     "execution_count": 170,
     "metadata": {},
     "output_type": "execute_result"
    }
   ],
   "source": [
    "shortest_dist"
   ]
  },
  {
   "cell_type": "code",
   "execution_count": 174,
   "metadata": {},
   "outputs": [],
   "source": [
    "# Part-2"
   ]
  },
  {
   "cell_type": "code",
   "execution_count": null,
   "metadata": {},
   "outputs": [],
   "source": [
    "# find the intersection where the sum of both wires' steps is the lowest"
   ]
  },
  {
   "cell_type": "code",
   "execution_count": 197,
   "metadata": {},
   "outputs": [],
   "source": [
    "def fewest_steps(w1,w2, intersections):\n",
    "    steps = []\n",
    "    for point in intersections:\n",
    "        steps.append(w1[point] + w2[point])\n",
    "    \n",
    "    return min(steps)\n",
    "        \n",
    "    "
   ]
  },
  {
   "cell_type": "code",
   "execution_count": 198,
   "metadata": {},
   "outputs": [],
   "source": [
    "min_steps = fewest_steps(w_1_coord, w_2_coord, intersection_coord)"
   ]
  },
  {
   "cell_type": "code",
   "execution_count": 199,
   "metadata": {},
   "outputs": [
    {
     "data": {
      "text/plain": [
       "14746"
      ]
     },
     "execution_count": 199,
     "metadata": {},
     "output_type": "execute_result"
    }
   ],
   "source": [
    "min_steps"
   ]
  },
  {
   "cell_type": "code",
   "execution_count": null,
   "metadata": {},
   "outputs": [],
   "source": []
  }
 ],
 "metadata": {
  "kernelspec": {
   "display_name": "ds19",
   "language": "python",
   "name": "ds19"
  },
  "language_info": {
   "codemirror_mode": {
    "name": "ipython",
    "version": 3
   },
   "file_extension": ".py",
   "mimetype": "text/x-python",
   "name": "python",
   "nbconvert_exporter": "python",
   "pygments_lexer": "ipython3",
   "version": "3.5.3"
  }
 },
 "nbformat": 4,
 "nbformat_minor": 2
}
