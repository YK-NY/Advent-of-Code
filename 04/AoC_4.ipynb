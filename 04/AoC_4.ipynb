{
 "cells": [
  {
   "cell_type": "code",
   "execution_count": null,
   "metadata": {},
   "outputs": [],
   "source": [
    "# Day 4"
   ]
  },
  {
   "cell_type": "code",
   "execution_count": null,
   "metadata": {},
   "outputs": [],
   "source": [
    "# Input range 172851-675869"
   ]
  },
  {
   "cell_type": "code",
   "execution_count": 26,
   "metadata": {},
   "outputs": [],
   "source": [
    "import numpy as np"
   ]
  },
  {
   "cell_type": "code",
   "execution_count": 86,
   "metadata": {},
   "outputs": [],
   "source": [
    "def checkOrder(num):\n",
    "    if  \"\".join(sorted(num)) == num:\n",
    "        return True\n",
    "    \n",
    "def checkSamenum(num):\n",
    "    for num_1, num_2 in zip(num, num[1:]):\n",
    "        if num_1 == num_2:\n",
    "            return True      \n",
    "\n",
    "def construct_passwords(input_range):\n",
    "    begin_range = int(input_range.split(\"-\")[0])\n",
    "    ending_range = int(input_range.split(\"-\")[1])\n",
    "    \n",
    "    valid_passwords = []\n",
    "    \n",
    "    count_p=0\n",
    "    count_repeat = 0\n",
    "    # password contains 6 digits\n",
    "    #password = np.zeros(6)\n",
    "    for i in range(begin_range, ending_range):        \n",
    "        password = str(i)        \n",
    "        # check if the digits are in ascending order\n",
    "        if checkOrder(password):\n",
    "            if checkSamenum(password):\n",
    "                count_p += 1\n",
    "                valid_passwords.append(password)\n",
    "                #print(\"count:\",count_p)\n",
    "            \n",
    "            if countRepeatingNum(password):\n",
    "                count_repeat +=1   \n",
    "            \n",
    "    return count_p, count_repeat\n",
    "    "
   ]
  },
  {
   "cell_type": "code",
   "execution_count": 87,
   "metadata": {},
   "outputs": [
    {
     "name": "stdout",
     "output_type": "stream",
     "text": [
      "0.5704827308654785\n"
     ]
    }
   ],
   "source": [
    "import time\n",
    "\n",
    "start = time.time()\n",
    "\n",
    "inputs = \"172851-675869\"\n",
    "n_pass,n_repeat = construct_passwords(inputs)\n",
    "\n",
    "end = time.time()\n",
    "print(end - start)"
   ]
  },
  {
   "cell_type": "code",
   "execution_count": 88,
   "metadata": {},
   "outputs": [
    {
     "data": {
      "text/plain": [
       "1660"
      ]
     },
     "execution_count": 88,
     "metadata": {},
     "output_type": "execute_result"
    }
   ],
   "source": [
    "n_pass"
   ]
  },
  {
   "cell_type": "code",
   "execution_count": 89,
   "metadata": {},
   "outputs": [
    {
     "data": {
      "text/plain": [
       "1135"
      ]
     },
     "execution_count": 89,
     "metadata": {},
     "output_type": "execute_result"
    }
   ],
   "source": [
    "n_repeat"
   ]
  },
  {
   "cell_type": "code",
   "execution_count": 33,
   "metadata": {},
   "outputs": [],
   "source": [
    "# Part 2: "
   ]
  },
  {
   "cell_type": "code",
   "execution_count": 95,
   "metadata": {},
   "outputs": [],
   "source": [
    "def countRepeatingNum(num):\n",
    "    count = 1\n",
    "    repeatDigit = False\n",
    "    for num1,num2 in zip(num, num[1:]):\n",
    "        if num1 == num2:\n",
    "            count += 1\n",
    "        else:\n",
    "            if count == 2:\n",
    "                return True\n",
    "            count = 1\n",
    "            #repeatDigit = False\n",
    "                      \n",
    "    return count == 2"
   ]
  },
  {
   "cell_type": "code",
   "execution_count": null,
   "metadata": {},
   "outputs": [],
   "source": []
  }
 ],
 "metadata": {
  "kernelspec": {
   "display_name": "ds19",
   "language": "python",
   "name": "ds19"
  },
  "language_info": {
   "codemirror_mode": {
    "name": "ipython",
    "version": 3
   },
   "file_extension": ".py",
   "mimetype": "text/x-python",
   "name": "python",
   "nbconvert_exporter": "python",
   "pygments_lexer": "ipython3",
   "version": "3.5.3"
  }
 },
 "nbformat": 4,
 "nbformat_minor": 2
}
